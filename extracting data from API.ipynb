{
 "cells": [
  {
   "cell_type": "code",
   "execution_count": 1,
   "metadata": {},
   "outputs": [],
   "source": [
    "# AOI co-ordinates (created via geojson.io) \n",
    "geojson_geometry = {\n",
    "  \"type\": \"Polygon\",\n",
    "  \"coordinates\": [\n",
    "    [ \n",
    "      [438.2666015625,22.27893059841188],\n",
    "      [440.013427734375,22.27893059841188],\n",
    "      [440.013427734375,23.33216830631147],\n",
    "      [438.2666015625,23.33216830631147],\n",
    "      [438.2666015625,22.27893059841188]\n",
    "    ]\n",
    "  ]\n",
    "}"
   ]
  },
  {
   "cell_type": "code",
   "execution_count": 2,
   "metadata": {},
   "outputs": [],
   "source": [
    "# get images that overlap with our AOI \n",
    "geometry_filter = {\n",
    "  \"type\": \"GeometryFilter\",\n",
    "  \"field_name\": \"geometry\",\n",
    "  \"config\": geojson_geometry\n",
    "}\n",
    "\n",
    "# get images acquired within a date range\n",
    "date_range_filter = {\n",
    "  \"type\": \"DateRangeFilter\",\n",
    "  \"field_name\": \"acquired\",\n",
    "  \"config\": {\n",
    "    \"gte\": \"2016-08-31T00:00:00.000Z\",\n",
    "    \"lte\": \"2016-09-01T00:00:00.000Z\"\n",
    "  }\n",
    "}\n",
    "\n",
    "# only get images which have <50% cloud coverage\n",
    "cloud_cover_filter = {\n",
    "  \"type\": \"RangeFilter\",\n",
    "  \"field_name\": \"cloud_cover\",\n",
    "  \"config\": {\n",
    "    \"lte\": 0.5\n",
    "  }\n",
    "}\n",
    "\n",
    "# combine our geo, date, cloud filters\n",
    "combined_filter = {\n",
    "  \"type\": \"AndFilter\",\n",
    "  \"config\": [geometry_filter, date_range_filter, cloud_cover_filter]\n",
    "}"
   ]
  },
  {
   "cell_type": "code",
   "execution_count": 3,
   "metadata": {},
   "outputs": [
    {
     "name": "stdout",
     "output_type": "stream",
     "text": [
      "{\n",
      " \"interval\": \"day\",\n",
      " \"utc_offset\": \"+0h\",\n",
      " \"buckets\": [\n",
      "  {\n",
      "   \"count\": 4,\n",
      "   \"start_time\": \"2016-08-31T00:00:00.000000Z\"\n",
      "  }\n",
      " ]\n",
      "}\n"
     ]
    }
   ],
   "source": [
    "import os\n",
    "import json\n",
    "import requests\n",
    "from requests.auth import HTTPBasicAuth\n",
    "\n",
    "# API Key stored as an env variable\n",
    "PLANET_API_KEY = os.getenv('bfe0d199ba6d41a99126f1e694bfeeb0') # replace PL_API_KEY with Planet API key in quotes\n",
    "\n",
    "item_type = \"PSScene4Band\"\n",
    "\n",
    "# API request object\n",
    "search_request = {\n",
    "  \"interval\": \"day\",\n",
    "  \"item_types\": [item_type], \n",
    "  \"filter\": combined_filter\n",
    "}\n",
    "\n",
    "# fire off the POST request\n",
    "search_result = \\\n",
    "  requests.post(\n",
    "    'https://api.planet.com/data/v1/stats',\n",
    "    auth=HTTPBasicAuth(PLANET_API_KEY, ''),\n",
    "    json=search_request)\n",
    "\n",
    "print(json.dumps(search_result.json(), indent=1))"
   ]
  },
  {
   "cell_type": "code",
   "execution_count": null,
   "metadata": {},
   "outputs": [],
   "source": [
    "links = search_result.json()[\"analytic\"][\"_links\"]\n",
    "self_link = links[\"_self\"]\n",
    "activation_link = links[\"activate\"]\n",
    "\n",
    "# Request activation of the 'analytic' asset:\n",
    "activate_result = \\\n",
    "  requests.get(\n",
    "    activation_link,\n",
    "    auth=HTTPBasicAuth(PLANET_API_KEY, '')\n",
    "  )\n",
    "  \n",
    "activation_status_result = \\\n",
    "  requests.get(\n",
    "    self_link,\n",
    "    auth=HTTPBasicAuth(PLANET_API_KEY, '')\n",
    "  )\n",
    "    \n"
   ]
  }
 ],
 "metadata": {
  "kernelspec": {
   "display_name": "Python 3",
   "language": "python",
   "name": "python3"
  },
  "language_info": {
   "codemirror_mode": {
    "name": "ipython",
    "version": 3
   },
   "file_extension": ".py",
   "mimetype": "text/x-python",
   "name": "python",
   "nbconvert_exporter": "python",
   "pygments_lexer": "ipython3",
   "version": "3.7.3"
  }
 },
 "nbformat": 4,
 "nbformat_minor": 2
}
